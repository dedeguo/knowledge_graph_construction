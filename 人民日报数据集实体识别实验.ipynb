{
  "nbformat": 4,
  "nbformat_minor": 0,
  "metadata": {
    "colab": {
      "name": "人民日报数据集实体识别实验.ipynb",
      "provenance": [],
      "collapsed_sections": [],
      "authorship_tag": "ABX9TyPvP3bAy70jMRJKwnILtzmN",
      "include_colab_link": true
    },
    "kernelspec": {
      "name": "python3",
      "display_name": "Python 3"
    },
    "accelerator": "GPU"
  },
  "cells": [
    {
      "cell_type": "markdown",
      "metadata": {
        "id": "view-in-github",
        "colab_type": "text"
      },
      "source": [
        "<a href=\"https://colab.research.google.com/github/dedeguo/knowledge_graph_construction/blob/master/%E4%BA%BA%E6%B0%91%E6%97%A5%E6%8A%A5%E6%95%B0%E6%8D%AE%E9%9B%86%E5%AE%9E%E4%BD%93%E8%AF%86%E5%88%AB%E5%AE%9E%E9%AA%8C.ipynb\" target=\"_parent\"><img src=\"https://colab.research.google.com/assets/colab-badge.svg\" alt=\"Open In Colab\"/></a>"
      ]
    },
    {
      "cell_type": "code",
      "metadata": {
        "id": "WIDGa06zz-V3",
        "colab_type": "code",
        "colab": {}
      },
      "source": [
        "!nvidia-smi"
      ],
      "execution_count": 0,
      "outputs": []
    },
    {
      "cell_type": "code",
      "metadata": {
        "id": "5z8xd__u2FOc",
        "colab_type": "code",
        "colab": {}
      },
      "source": [
        "!pip install tensorflow-gpu==1.15\n",
        "!pip install kashgari-tf"
      ],
      "execution_count": 0,
      "outputs": []
    },
    {
      "cell_type": "code",
      "metadata": {
        "id": "i6LKaaIU0A7D",
        "colab_type": "code",
        "colab": {
          "base_uri": "https://localhost:8080/",
          "height": 33
        },
        "outputId": "3c5ec14b-8cba-4efa-8084-9f276dd22601"
      },
      "source": [
        "import kashgari\n",
        "from kashgari.corpus import ChineseDailyNerCorpus\n",
        "from kashgari.tasks.labeling import BiGRU_Model,BiLSTM_Model\t\n",
        "kashgari.config.use_cudnn_cell = True\n",
        "# 加载数据集，保证格式一致\n",
        "train_x, train_y = ChineseDailyNerCorpus.load_data('train')\n",
        "test_x, test_y = ChineseDailyNerCorpus.load_data('test')\n",
        "valid_x, valid_y = ChineseDailyNerCorpus.load_data('valid')\n"
      ],
      "execution_count": 25,
      "outputs": [
        {
          "output_type": "stream",
          "text": [
            "WARNING:root:CuDNN enabled, this will speed up the training, but will make model incompatible with CPU device.\n"
          ],
          "name": "stderr"
        }
      ]
    },
    {
      "cell_type": "code",
      "metadata": {
        "id": "KfxHAXgRqw_7",
        "colab_type": "code",
        "colab": {}
      },
      "source": [
        "model=BiLSTM_Model()\n",
        "model.fit(train_x, train_y, valid_x, valid_y,epochs=15)\n",
        "\n",
        "# 验证模型，此方法将打印出详细的验证报告\n",
        "model.evaluate(test_x, test_y)\n",
        "\n",
        "# 保存模型到 `saved_ner_model` 目录下\n",
        "model.save('saved_ner_model')\n",
        "\n",
        "# 加载保存模型\n",
        "loaded_model = kashgari.utils.load_model('saved_ner_model')\n",
        "\n",
        "# 使用模型进行预测\n",
        "loaded_model.predict(test_x[:10])"
      ],
      "execution_count": 0,
      "outputs": []
    },
    {
      "cell_type": "markdown",
      "metadata": {
        "id": "WgbuukAnvR2Q",
        "colab_type": "text"
      },
      "source": [
        "结果是：\n",
        "BiLSTM_Model() epochs=15  \n",
        "WARNING:root:Sequence length will auto set at 95% of sequence length  \n",
        "           precision    recall  f1-score   support\n",
        "\n",
        "      ORG     0.6112    0.6123    0.6117      2146\n",
        "      PER     0.8063    0.8099    0.8081      1794\n",
        "      LOC     0.7365    0.7940    0.7642      3428  \n",
        "\n",
        "micro avg     0.7174    0.7450    0.7309      7368  \n",
        "macro avg     0.7170    0.7450    0.7305      7368\n"
      ]
    },
    {
      "cell_type": "code",
      "metadata": {
        "id": "aU1z4wYLusg9",
        "colab_type": "code",
        "colab": {
          "base_uri": "https://localhost:8080/",
          "height": 1000
        },
        "outputId": "391220d3-38e8-4609-baa0-1bfcc9d1d8cb"
      },
      "source": [
        "# BiLSTM_CRF_Model\t\n",
        "from kashgari.tasks.labeling import BiLSTM_CRF_Model\t\n",
        "model_bilstm_crf=BiLSTM_CRF_Model()\n",
        "model_bilstm_crf.fit(train_x, train_y, valid_x, valid_y,epochs=15)\n",
        "\n",
        "# 验证模型，此方法将打印出详细的验证报告\n",
        "model_bilstm_crf.evaluate(test_x, test_y)\n",
        "\n",
        "\n"
      ],
      "execution_count": 29,
      "outputs": [
        {
          "output_type": "stream",
          "text": [
            "WARNING:root:Sequence length will auto set at 95% of sequence length\n"
          ],
          "name": "stderr"
        },
        {
          "output_type": "stream",
          "text": [
            "Model: \"model_5\"\n",
            "_________________________________________________________________\n",
            "Layer (type)                 Output Shape              Param #   \n",
            "=================================================================\n",
            "input (InputLayer)           [(None, 97)]              0         \n",
            "_________________________________________________________________\n",
            "layer_embedding (Embedding)  (None, 97, 100)           350000    \n",
            "_________________________________________________________________\n",
            "layer_blstm (Bidirectional)  (None, 97, 256)           235520    \n",
            "_________________________________________________________________\n",
            "layer_dense (Dense)          (None, 97, 64)            16448     \n",
            "_________________________________________________________________\n",
            "layer_crf_dense (Dense)      (None, 97, 8)             520       \n",
            "_________________________________________________________________\n",
            "layer_crf (CRF)              (None, 97, 8)             64        \n",
            "=================================================================\n",
            "Total params: 602,552\n",
            "Trainable params: 602,552\n",
            "Non-trainable params: 0\n",
            "_________________________________________________________________\n",
            "Epoch 1/15\n",
            "326/327 [============================>.] - ETA: 0s - loss: 21.3767 - accuracy: 0.9322Epoch 1/15\n",
            "327/327 [==============================] - 80s 246ms/step - loss: 21.3440 - accuracy: 0.9323 - val_loss: 146.0041 - val_accuracy: 0.7073\n",
            "Epoch 2/15\n",
            "326/327 [============================>.] - ETA: 0s - loss: 6.3426 - accuracy: 0.9757Epoch 1/15\n",
            "327/327 [==============================] - 79s 242ms/step - loss: 6.3356 - accuracy: 0.9757 - val_loss: 142.6717 - val_accuracy: 0.7186\n",
            "Epoch 3/15\n",
            "326/327 [============================>.] - ETA: 0s - loss: 4.2601 - accuracy: 0.9820Epoch 1/15\n",
            "327/327 [==============================] - 80s 244ms/step - loss: 4.2569 - accuracy: 0.9820 - val_loss: 140.7573 - val_accuracy: 0.6955\n",
            "Epoch 4/15\n",
            "326/327 [============================>.] - ETA: 0s - loss: 3.2781 - accuracy: 0.9852Epoch 1/15\n",
            "327/327 [==============================] - 80s 244ms/step - loss: 3.2777 - accuracy: 0.9852 - val_loss: 139.0693 - val_accuracy: 0.0772\n",
            "Epoch 5/15\n",
            "326/327 [============================>.] - ETA: 0s - loss: 2.6445 - accuracy: 0.9876Epoch 1/15\n",
            "327/327 [==============================] - 79s 243ms/step - loss: 2.6409 - accuracy: 0.9876 - val_loss: 137.9958 - val_accuracy: 0.0612\n",
            "Epoch 6/15\n",
            "326/327 [============================>.] - ETA: 0s - loss: 2.1790 - accuracy: 0.9893Epoch 1/15\n",
            "327/327 [==============================] - 79s 241ms/step - loss: 2.1791 - accuracy: 0.9893 - val_loss: 137.2987 - val_accuracy: 0.0476\n",
            "Epoch 7/15\n",
            "326/327 [============================>.] - ETA: 0s - loss: 1.8359 - accuracy: 0.9907Epoch 1/15\n",
            "327/327 [==============================] - 79s 242ms/step - loss: 1.8358 - accuracy: 0.9907 - val_loss: 136.8343 - val_accuracy: 0.0453\n",
            "Epoch 8/15\n",
            "326/327 [============================>.] - ETA: 0s - loss: 1.5464 - accuracy: 0.9919Epoch 1/15\n",
            "327/327 [==============================] - 80s 243ms/step - loss: 1.5460 - accuracy: 0.9919 - val_loss: 136.4737 - val_accuracy: 0.0456\n",
            "Epoch 9/15\n",
            "326/327 [============================>.] - ETA: 0s - loss: 1.3319 - accuracy: 0.9929Epoch 1/15\n",
            "327/327 [==============================] - 80s 244ms/step - loss: 1.3327 - accuracy: 0.9929 - val_loss: 136.3349 - val_accuracy: 0.0402\n",
            "Epoch 10/15\n",
            "326/327 [============================>.] - ETA: 0s - loss: 1.1663 - accuracy: 0.9936Epoch 1/15\n",
            "327/327 [==============================] - 80s 245ms/step - loss: 1.1649 - accuracy: 0.9936 - val_loss: 136.7307 - val_accuracy: 0.0396\n",
            "Epoch 11/15\n",
            "326/327 [============================>.] - ETA: 0s - loss: 0.9772 - accuracy: 0.9946Epoch 1/15\n",
            "327/327 [==============================] - 80s 244ms/step - loss: 0.9775 - accuracy: 0.9946 - val_loss: 136.7769 - val_accuracy: 0.0392\n",
            "Epoch 12/15\n",
            "326/327 [============================>.] - ETA: 0s - loss: 0.8406 - accuracy: 0.9954Epoch 1/15\n",
            "327/327 [==============================] - 80s 246ms/step - loss: 0.8402 - accuracy: 0.9954 - val_loss: 136.8524 - val_accuracy: 0.0372\n",
            "Epoch 13/15\n",
            "326/327 [============================>.] - ETA: 0s - loss: 0.7435 - accuracy: 0.9958Epoch 1/15\n",
            "327/327 [==============================] - 80s 246ms/step - loss: 0.7446 - accuracy: 0.9958 - val_loss: 137.9279 - val_accuracy: 0.0333\n",
            "Epoch 14/15\n",
            "326/327 [============================>.] - ETA: 0s - loss: 0.6242 - accuracy: 0.9965Epoch 1/15\n",
            "327/327 [==============================] - 81s 247ms/step - loss: 0.6233 - accuracy: 0.9965 - val_loss: 137.7823 - val_accuracy: 0.0330\n",
            "Epoch 15/15\n",
            "326/327 [============================>.] - ETA: 0s - loss: 0.5518 - accuracy: 0.9968Epoch 1/15\n",
            "327/327 [==============================] - 81s 247ms/step - loss: 0.5514 - accuracy: 0.9968 - val_loss: 138.3071 - val_accuracy: 0.0341\n",
            "           precision    recall  f1-score   support\n",
            "\n",
            "      ORG     0.7523    0.7260    0.7389      2146\n",
            "      PER     0.8572    0.8400    0.8485      1794\n",
            "      LOC     0.8070    0.8174    0.8122      3428\n",
            "\n",
            "micro avg     0.8035    0.7963    0.7999      7368\n",
            "macro avg     0.8033    0.7963    0.7997      7368\n",
            "\n"
          ],
          "name": "stdout"
        },
        {
          "output_type": "execute_result",
          "data": {
            "text/plain": [
              "'           precision    recall  f1-score   support\\n\\n      ORG     0.7523    0.7260    0.7389      2146\\n      PER     0.8572    0.8400    0.8485      1794\\n      LOC     0.8070    0.8174    0.8122      3428\\n\\nmicro avg     0.8035    0.7963    0.7999      7368\\nmacro avg     0.8033    0.7963    0.7997      7368\\n'"
            ]
          },
          "metadata": {
            "tags": []
          },
          "execution_count": 29
        }
      ]
    },
    {
      "cell_type": "code",
      "metadata": {
        "id": "ELxLcWhn3Ny1",
        "colab_type": "code",
        "colab": {
          "base_uri": "https://localhost:8080/",
          "height": 236
        },
        "outputId": "f4705fec-23fa-40c9-d972-d17c0eef85a5"
      },
      "source": [
        "# B-LOC B-PER B-ORG\n",
        "\n",
        "print(len(train_x))\n",
        "print(len(test_x))\n",
        "\n",
        "print(train_y[12])\n",
        "print(train_y[10])\n",
        "train_char_nums=0\n",
        "test_char_num=0;\n",
        "#print(train_x)\n",
        "#统计人名、地名、机构名称\n",
        "train_loc=0\n",
        "train_per=0\n",
        "train_org=0 \n",
        "for i in range(0,len(train_x)):\n",
        "  \n",
        "  train_char_nums=train_char_nums+len(train_x[i])\n",
        "  lables=train_y[i]\n",
        "  for c in lables:\n",
        "    if(c=='B-LOC'):\n",
        "     train_loc=train_loc+1\n",
        "    if(c=='B-PER'):\n",
        "     train_per=train_per+1\n",
        "    if(c=='B-ORG'):\n",
        "     train_org=train_org+1\n",
        "\n",
        "print(\"train_char_nums is {}\",train_char_nums)\n",
        "print(\"train_loc is \",train_loc)\n",
        "print(\"train_per is \",train_per)\n",
        "print(\"train_org is \",train_org)\n",
        "\n",
        "test_loc=0\n",
        "test_per=0\n",
        "test_org=0\n",
        "for j in range(0,len(test_x)):\n",
        "  test_char_num=test_char_num+len(test_x[j])\n",
        "  lables=test_y[j]\n",
        "  for c in lables:\n",
        "    if(c=='B-LOC'):\n",
        "     test_loc=test_loc+1\n",
        "    if(c=='B-PER'):\n",
        "     test_per=test_per+1\n",
        "    if(c=='B-ORG'):\n",
        "     test_org=test_org+1\n",
        "\n",
        "print (\"test_char_num is :\",test_char_num)\n",
        "print(\"test_loc :\",test_loc)\n",
        "print(\"test_per:\",test_per)\n",
        "print(\"test_org:\",test_org)"
      ],
      "execution_count": 21,
      "outputs": [
        {
          "output_type": "stream",
          "text": [
            "20864\n",
            "4636\n",
            "['B-ORG', 'I-ORG', 'I-ORG', 'I-ORG', 'O', 'O', 'O', 'O', 'O', 'O', 'O', 'O', 'O', 'O', 'O', 'O', 'O']\n",
            "['B-LOC', 'I-LOC', 'O', 'O', 'B-PER', 'I-PER', 'I-PER', 'O', 'O', 'O', 'B-PER', 'I-PER', 'O', 'B-LOC', 'I-LOC', 'I-LOC', 'O', 'O', 'O', 'B-PER', 'I-PER', 'I-PER', 'I-PER', 'I-PER', 'I-PER', 'O', 'O', 'B-LOC', 'I-LOC', 'O', 'B-LOC', 'I-LOC', 'O', 'B-LOC', 'I-LOC', 'I-LOC', 'I-LOC', 'O', 'B-LOC', 'I-LOC', 'O', 'B-LOC', 'I-LOC', 'O', 'O', 'O', 'O', 'O', 'O', 'O', 'O', 'O', 'O', 'O', 'O', 'B-ORG', 'I-ORG', 'I-ORG', 'I-ORG', 'I-ORG', 'I-ORG', 'I-ORG', 'I-ORG', 'I-ORG', 'O']\n",
            "train_char_nums is {} 979180\n",
            "train_loc is  16571\n",
            "train_per is  8144\n",
            "train_org is  9277\n",
            "test_char_num is : 219197\n",
            "test_loc : 3658\n",
            "test_per: 1864\n",
            "test_org: 2185\n"
          ],
          "name": "stdout"
        }
      ]
    },
    {
      "cell_type": "code",
      "metadata": {
        "id": "jtiH9rs7cvwc",
        "colab_type": "code",
        "colab": {
          "base_uri": "https://localhost:8080/",
          "height": 86
        },
        "outputId": "a5a97149-00da-4f79-973d-62dffe2e5c65"
      },
      "source": [
        "data=train_y[2]\n",
        "print(train_x[2])\n",
        "print(data)\n",
        "num_o=0\n",
        "for c in data:\n",
        "  if(c=='B-LOC'):\n",
        "   num_o=num_o+1\n",
        "#print(\"num_o is {}\",num_o)\n",
        "\n"
      ],
      "execution_count": 20,
      "outputs": [
        {
          "output_type": "stream",
          "text": [
            "['八', '一', '队', '主', '教', '练', '王', '非', '将', '担', '任', '国', '家', '男', '篮', '主', '教', '练', '，', '济', '南', '军', '区', '队', '教', '练', '张', '斌', '担', '任', '国', '家', '队', '助', '理', '教', '练', '。']\n",
            "['B-ORG', 'I-ORG', 'I-ORG', 'O', 'O', 'O', 'B-PER', 'I-PER', 'O', 'O', 'O', 'B-ORG', 'I-ORG', 'I-ORG', 'I-ORG', 'O', 'O', 'O', 'O', 'B-ORG', 'I-ORG', 'I-ORG', 'I-ORG', 'I-ORG', 'O', 'O', 'B-PER', 'I-PER', 'O', 'O', 'B-ORG', 'I-ORG', 'I-ORG', 'O', 'O', 'O', 'O', 'O']\n",
            "num_o is {} 0\n"
          ],
          "name": "stdout"
        }
      ]
    }
  ]
}